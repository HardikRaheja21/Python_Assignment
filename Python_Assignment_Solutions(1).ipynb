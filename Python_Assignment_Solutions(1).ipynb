{
 "cells": [
  {
   "cell_type": "code",
   "execution_count": 42,
   "metadata": {},
   "outputs": [
    {
     "name": "stdout",
     "output_type": "stream",
     "text": [
      "45\n"
     ]
    }
   ],
   "source": [
    "# Q1\n",
    "# Find the second largest number without sort()\n",
    "def second_largest(lst):\n",
    "    first = second = float('-inf')\n",
    "    for num in lst:\n",
    "        if num > first:\n",
    "            second = first\n",
    "            first = num\n",
    "        elif first > num > second:\n",
    "            second = num\n",
    "    return second\n",
    "\n",
    "print(second_largest([10, 20, 4, 45, 99]))"
   ]
  },
  {
   "cell_type": "code",
   "execution_count": 2,
   "metadata": {},
   "outputs": [
    {
     "name": "stdout",
     "output_type": "stream",
     "text": [
      "[1, 2, 3, 4, 5]\n"
     ]
    }
   ],
   "source": [
    "# Q2\n",
    "# Remove duplicates without set() and sort\n",
    "def remove_duplicates(lst):\n",
    "    result = []\n",
    "    for item in lst:\n",
    "        if item not in result:\n",
    "            result.append(item)\n",
    "    return sorted(result)\n",
    "\n",
    "print(remove_duplicates([4, 5, 2, 2, 3, 4, 1]))"
   ]
  },
  {
   "cell_type": "code",
   "execution_count": 3,
   "metadata": {},
   "outputs": [
    {
     "name": "stdout",
     "output_type": "stream",
     "text": [
      "(100, 25.0)\n"
     ]
    }
   ],
   "source": [
    "# Q3\n",
    "# Sum and average of a list\n",
    "def sum_and_average(lst):\n",
    "    total = sum(lst)\n",
    "    avg = total / len(lst)\n",
    "    return total, avg\n",
    "\n",
    "print(sum_and_average([10, 20, 30, 40]))"
   ]
  },
  {
   "cell_type": "code",
   "execution_count": 4,
   "metadata": {},
   "outputs": [
    {
     "name": "stdout",
     "output_type": "stream",
     "text": [
      "True\n"
     ]
    }
   ],
   "source": [
    "# Q4\n",
    "# Check if number is prime\n",
    "def is_prime(n):\n",
    "    if n < 2:\n",
    "        return False\n",
    "    for i in range(2, int(n**0.5)+1):\n",
    "        if n % i == 0:\n",
    "            return False\n",
    "    return True\n",
    "\n",
    "print(is_prime(17))"
   ]
  },
  {
   "cell_type": "code",
   "execution_count": 5,
   "metadata": {},
   "outputs": [
    {
     "name": "stdout",
     "output_type": "stream",
     "text": [
      "(3, 7, 3, 3)\n"
     ]
    }
   ],
   "source": [
    "# Q5\n",
    "# Count vowels, consonants, digits, and special characters\n",
    "def count_elements(s):\n",
    "    vowels = \"aeiouAEIOU\"\n",
    "    v = c = d = sc = 0\n",
    "    for ch in s:\n",
    "        if ch.isdigit():\n",
    "            d += 1\n",
    "        elif ch.isalpha():\n",
    "            if ch in vowels:\n",
    "                v += 1\n",
    "            else:\n",
    "                c += 1\n",
    "        else:\n",
    "            sc += 1\n",
    "    return v, c, d, sc\n",
    "\n",
    "print(count_elements(\"Hello World! 123\"))"
   ]
  },
  {
   "cell_type": "code",
   "execution_count": 6,
   "metadata": {},
   "outputs": [
    {
     "name": "stdout",
     "output_type": "stream",
     "text": [
      "2 4 6 8 10 12 14 16 18 20 22 24 26 28 30 32 34 36 38 40 42 44 46 48 50 52 54 56 58 60 62 64 66 68 70 72 74 76 78 80 82 84 86 88 90 92 94 96 98 100 "
     ]
    }
   ],
   "source": [
    "# Q6\n",
    "# Even numbers between 1 and 100\n",
    "for i in range(2, 101, 2):\n",
    "    print(i, end=\" \")"
   ]
  },
  {
   "cell_type": "code",
   "execution_count": 7,
   "metadata": {},
   "outputs": [
    {
     "name": "stdout",
     "output_type": "stream",
     "text": [
      "Enter number: 10\n",
      "10 x 1 = 10\n",
      "10 x 2 = 20\n",
      "10 x 3 = 30\n",
      "10 x 4 = 40\n",
      "10 x 5 = 50\n",
      "10 x 6 = 60\n",
      "10 x 7 = 70\n",
      "10 x 8 = 80\n",
      "10 x 9 = 90\n",
      "10 x 10 = 100\n"
     ]
    }
   ],
   "source": [
    "# Q7\n",
    "# Multiplication table\n",
    "n = int(input(\"Enter number: \"))\n",
    "for i in range(1, 11):\n",
    "    print(f\"{n} x {i} = {n*i}\")"
   ]
  },
  {
   "cell_type": "code",
   "execution_count": 8,
   "metadata": {},
   "outputs": [
    {
     "name": "stdout",
     "output_type": "stream",
     "text": [
      "[15, 30, 45, 60, 75, 90]\n"
     ]
    }
   ],
   "source": [
    "# Q8\n",
    "# Numbers divisible by both 3 and 5\n",
    "print([i for i in range(1, 101) if i % 3 == 0 and i % 5 == 0])"
   ]
  },
  {
   "cell_type": "code",
   "execution_count": 9,
   "metadata": {},
   "outputs": [
    {
     "name": "stdout",
     "output_type": "stream",
     "text": [
      "Enter a number: 5\n",
      "5\n"
     ]
    }
   ],
   "source": [
    "# Q9\n",
    "# Reverse a number\n",
    "n = int(input(\"Enter a number: \"))\n",
    "print(str(n)[::-1])"
   ]
  },
  {
   "cell_type": "code",
   "execution_count": 10,
   "metadata": {},
   "outputs": [
    {
     "name": "stdout",
     "output_type": "stream",
     "text": [
      "{'h': 1, 'e': 1, 'l': 3, 'o': 2, ' ': 1, 'w': 1, 'r': 1, 'd': 1}\n"
     ]
    }
   ],
   "source": [
    "# Q10\n",
    "# Frequency of characters\n",
    "def char_frequency(s):\n",
    "    freq = {}\n",
    "    for ch in s:\n",
    "        freq[ch] = freq.get(ch, 0) + 1\n",
    "    return freq\n",
    "\n",
    "print(char_frequency(\"hello world\"))"
   ]
  },
  {
   "cell_type": "code",
   "execution_count": 11,
   "metadata": {},
   "outputs": [
    {
     "name": "stdout",
     "output_type": "stream",
     "text": [
      "[2, 3, 5, 7, 11, 13, 17, 19, 23, 29]\n"
     ]
    }
   ],
   "source": [
    "# Q11\n",
    "# Generate first n prime numbers\n",
    "def generate_primes(n):\n",
    "    primes = []\n",
    "    num = 2\n",
    "    while len(primes) < n:\n",
    "        if all(num % p != 0 for p in primes):\n",
    "            primes.append(num)\n",
    "        num += 1\n",
    "    return primes\n",
    "\n",
    "print(generate_primes(10))"
   ]
  },
  {
   "cell_type": "code",
   "execution_count": 12,
   "metadata": {},
   "outputs": [
    {
     "name": "stdout",
     "output_type": "stream",
     "text": [
      "True\n"
     ]
    }
   ],
   "source": [
    "# Q12\n",
    "# Check if a number is a palindrome\n",
    "def is_palindrome(n):\n",
    "    return str(n) == str(n)[::-1]\n",
    "\n",
    "print(is_palindrome(121))"
   ]
  },
  {
   "cell_type": "code",
   "execution_count": 13,
   "metadata": {},
   "outputs": [
    {
     "name": "stdout",
     "output_type": "stream",
     "text": [
      "3\n"
     ]
    }
   ],
   "source": [
    "# Q13\n",
    "# Count specific element in a list\n",
    "def count_occurrences(lst, elem):\n",
    "    return lst.count(elem)\n",
    "\n",
    "print(count_occurrences([1,2,3,4,2,2,5], 2))"
   ]
  },
  {
   "cell_type": "code",
   "execution_count": 14,
   "metadata": {},
   "outputs": [
    {
     "name": "stdout",
     "output_type": "stream",
     "text": [
      "[4, 16, 36, 64, 100, 144, 196, 256, 324, 400, 484, 576, 676, 784, 900, 1024, 1156, 1296, 1444, 1600, 1764, 1936, 2116, 2304, 2500]\n"
     ]
    }
   ],
   "source": [
    "# Q14\n",
    "# Squares of even numbers between 1 and 50\n",
    "print([i**2 for i in range(1, 51) if i % 2 == 0])"
   ]
  },
  {
   "cell_type": "code",
   "execution_count": 15,
   "metadata": {},
   "outputs": [
    {
     "name": "stdout",
     "output_type": "stream",
     "text": [
      "[1, 2, 3, 4, 5]\n"
     ]
    }
   ],
   "source": [
    "# Q15\n",
    "# Return list with unique elements (preserve order)\n",
    "def unique_list(lst):\n",
    "    seen = set()\n",
    "    result = []\n",
    "    for i in lst:\n",
    "        if i not in seen:\n",
    "            seen.add(i)\n",
    "            result.append(i)\n",
    "    return result\n",
    "\n",
    "print(unique_list([1,2,2,3,4,4,5]))"
   ]
  },
  {
   "cell_type": "code",
   "execution_count": 16,
   "metadata": {},
   "outputs": [
    {
     "name": "stdout",
     "output_type": "stream",
     "text": [
      "True\n"
     ]
    }
   ],
   "source": [
    "# Q16\n",
    "def is_even(n):\n",
    "    return n % 2 == 0\n",
    "\n",
    "print(is_even(4))"
   ]
  },
  {
   "cell_type": "code",
   "execution_count": 17,
   "metadata": {},
   "outputs": [
    {
     "name": "stdout",
     "output_type": "stream",
     "text": [
      "[1, 3, 6, 10]\n"
     ]
    }
   ],
   "source": [
    "# Q17\n",
    "def cumulative_sum(lst):\n",
    "    total = 0\n",
    "    result = []\n",
    "    for num in lst:\n",
    "        total += num\n",
    "        result.append(total)\n",
    "    return result\n",
    "\n",
    "print(cumulative_sum([1,2,3,4]))"
   ]
  },
  {
   "cell_type": "code",
   "execution_count": 18,
   "metadata": {},
   "outputs": [
    {
     "name": "stdout",
     "output_type": "stream",
     "text": [
      "120\n"
     ]
    }
   ],
   "source": [
    "# Q18\n",
    "def factorial(n):\n",
    "    if n == 0:\n",
    "        return 1\n",
    "    return n * factorial(n-1)\n",
    "\n",
    "print(factorial(5))"
   ]
  },
  {
   "cell_type": "code",
   "execution_count": 19,
   "metadata": {},
   "outputs": [
    {
     "name": "stdout",
     "output_type": "stream",
     "text": [
      "0 1 1 2 3 5 8 13 21 34 "
     ]
    }
   ],
   "source": [
    "# Q19\n",
    "def fibonacci(n):\n",
    "    a, b = 0, 1\n",
    "    for _ in range(n):\n",
    "        print(a, end=\" \")\n",
    "        a, b = b, a + b\n",
    "\n",
    "fibonacci(10)"
   ]
  },
  {
   "cell_type": "code",
   "execution_count": 20,
   "metadata": {},
   "outputs": [
    {
     "name": "stdout",
     "output_type": "stream",
     "text": [
      "True\n"
     ]
    }
   ],
   "source": [
    "# Q20\n",
    "def is_palindrome_string(s):\n",
    "    return s == s[::-1]\n",
    "\n",
    "print(is_palindrome_string(\"madam\"))"
   ]
  },
  {
   "cell_type": "code",
   "execution_count": 21,
   "metadata": {},
   "outputs": [
    {
     "name": "stdout",
     "output_type": "stream",
     "text": [
      "(5, 1)\n"
     ]
    }
   ],
   "source": [
    "# Q21\n",
    "def max_min(lst):\n",
    "    return max(lst), min(lst)\n",
    "\n",
    "print(max_min([1, 2, 3, 4, 5]))"
   ]
  },
  {
   "cell_type": "code",
   "execution_count": 22,
   "metadata": {},
   "outputs": [
    {
     "name": "stdout",
     "output_type": "stream",
     "text": [
      "True\n"
     ]
    }
   ],
   "source": [
    "# Q22\n",
    "import string\n",
    "\n",
    "def is_pangram(s):\n",
    "    return set(string.ascii_lowercase) <= set(s.lower())\n",
    "\n",
    "print(is_pangram(\"The quick brown fox jumps over a lazy dog\"))"
   ]
  },
  {
   "cell_type": "code",
   "execution_count": 23,
   "metadata": {},
   "outputs": [
    {
     "name": "stdout",
     "output_type": "stream",
     "text": [
      "[11, 13, 17, 19, 23, 29, 31, 37, 41, 43, 47]\n"
     ]
    }
   ],
   "source": [
    "# Q23\n",
    "def primes_in_range(start, end):\n",
    "    return [x for x in range(start, end+1) if is_prime(x)]\n",
    "\n",
    "print(primes_in_range(10, 50))"
   ]
  },
  {
   "cell_type": "code",
   "execution_count": 24,
   "metadata": {},
   "outputs": [
    {
     "name": "stdout",
     "output_type": "stream",
     "text": [
      "(2, 8)\n"
     ]
    }
   ],
   "source": [
    "# Q24\n",
    "def count_case(s):\n",
    "    upper = sum(1 for c in s if c.isupper())\n",
    "    lower = sum(1 for c in s if c.islower())\n",
    "    return upper, lower\n",
    "\n",
    "print(count_case(\"Hello World\"))"
   ]
  },
  {
   "cell_type": "code",
   "execution_count": 25,
   "metadata": {},
   "outputs": [
    {
     "name": "stdout",
     "output_type": "stream",
     "text": [
      "10\n"
     ]
    }
   ],
   "source": [
    "# Q25\n",
    "def sum_of_digits(n):\n",
    "    return sum(int(d) for d in str(n))\n",
    "\n",
    "print(sum_of_digits(1234))"
   ]
  },
  {
   "cell_type": "code",
   "execution_count": 26,
   "metadata": {},
   "outputs": [
    {
     "name": "stdout",
     "output_type": "stream",
     "text": [
      "5\n"
     ]
    }
   ],
   "source": [
    "# Q26\n",
    "def count_words(sentence):\n",
    "    return len(sentence.split())\n",
    "\n",
    "print(count_words(\"This is a sample sentence.\"))"
   ]
  },
  {
   "cell_type": "code",
   "execution_count": 27,
   "metadata": {},
   "outputs": [
    {
     "name": "stdout",
     "output_type": "stream",
     "text": [
      "Hello world Its a great day\n"
     ]
    }
   ],
   "source": [
    "# Q27\n",
    "import string\n",
    "\n",
    "def remove_punctuation(s):\n",
    "    return ''.join(c for c in s if c not in string.punctuation)\n",
    "\n",
    "print(remove_punctuation(\"Hello, world! It's a great day.\"))"
   ]
  },
  {
   "cell_type": "code",
   "execution_count": 28,
   "metadata": {},
   "outputs": [
    {
     "name": "stdout",
     "output_type": "stream",
     "text": [
      "6\n"
     ]
    }
   ],
   "source": [
    "# Q28\n",
    "def gcd(a, b):\n",
    "    while b:\n",
    "        a, b = b, a % b\n",
    "    return a\n",
    "\n",
    "print(gcd(54, 24))"
   ]
  },
  {
   "cell_type": "code",
   "execution_count": 29,
   "metadata": {},
   "outputs": [
    {
     "name": "stdout",
     "output_type": "stream",
     "text": [
      "[2, 4]\n"
     ]
    }
   ],
   "source": [
    "# Q29\n",
    "def duplicates(lst):\n",
    "    return [x for x in set(lst) if lst.count(x) > 1]\n",
    "\n",
    "print(duplicates([1,2,2,3,4,4,5]))"
   ]
  },
  {
   "cell_type": "code",
   "execution_count": 30,
   "metadata": {},
   "outputs": [
    {
     "name": "stdout",
     "output_type": "stream",
     "text": [
      "9\n"
     ]
    }
   ],
   "source": [
    "# Q30\n",
    "def largest_of_three(a, b, c):\n",
    "    return max(a, b, c)\n",
    "\n",
    "print(largest_of_three(5, 9, 2))"
   ]
  },
  {
   "cell_type": "code",
   "execution_count": 31,
   "metadata": {},
   "outputs": [
    {
     "name": "stdout",
     "output_type": "stream",
     "text": [
      "a is test this\n"
     ]
    }
   ],
   "source": [
    "# Q31\n",
    "sentence = \"this is a test\"\n",
    "words = sentence.split()\n",
    "words.sort()\n",
    "print(\" \".join(words))"
   ]
  },
  {
   "cell_type": "code",
   "execution_count": 32,
   "metadata": {},
   "outputs": [
    {
     "name": "stdout",
     "output_type": "stream",
     "text": [
      "{'a': 1, 'b': 2, 'c': 3, 'd': 4}\n"
     ]
    }
   ],
   "source": [
    "# Q32\n",
    "dict1 = {\"a\": 1, \"b\": 2}\n",
    "dict2 = {\"c\": 3, \"d\": 4}\n",
    "dict1.update(dict2)\n",
    "print(dict1)"
   ]
  },
  {
   "cell_type": "code",
   "execution_count": 33,
   "metadata": {},
   "outputs": [
    {
     "name": "stdout",
     "output_type": "stream",
     "text": [
      "{'Hello': 2, 'world': 1, 'this': 1, 'is': 1, 'Python': 1}\n"
     ]
    }
   ],
   "source": [
    "# Q33\n",
    "def vowels_in_words(sentence):\n",
    "    words = sentence.split()\n",
    "    vowels = \"aeiouAEIOU\"\n",
    "    return {word: sum(1 for c in word if c in vowels) for word in words}\n",
    "\n",
    "print(vowels_in_words(\"Hello world this is Python\"))"
   ]
  },
  {
   "cell_type": "code",
   "execution_count": 34,
   "metadata": {},
   "outputs": [
    {
     "name": "stdout",
     "output_type": "stream",
     "text": [
      "[1, 2, 3]\n"
     ]
    }
   ],
   "source": [
    "# Q34\n",
    "tup = (1, 2, 3)\n",
    "lst = list(tup)\n",
    "print(lst)"
   ]
  },
  {
   "cell_type": "code",
   "execution_count": 35,
   "metadata": {},
   "outputs": [
    {
     "name": "stdout",
     "output_type": "stream",
     "text": [
      "abcd\n"
     ]
    }
   ],
   "source": [
    "# Q35\n",
    "def remove_whitespace(s):\n",
    "    return s.replace(\" \", \"\")\n",
    "\n",
    "print(remove_whitespace(\" a b c d \"))"
   ]
  },
  {
   "cell_type": "code",
   "execution_count": 36,
   "metadata": {},
   "outputs": [
    {
     "name": "stdout",
     "output_type": "stream",
     "text": [
      "{'a': 1, 'b': 2, 'c': 3}\n"
     ]
    }
   ],
   "source": [
    "# Q36\n",
    "keys = [\"a\", \"b\", \"c\"]\n",
    "values = [1, 2, 3]\n",
    "merged = dict(zip(keys, values))\n",
    "print(merged)"
   ]
  },
  {
   "cell_type": "code",
   "execution_count": 37,
   "metadata": {},
   "outputs": [
    {
     "name": "stdout",
     "output_type": "stream",
     "text": [
      "b\n"
     ]
    }
   ],
   "source": [
    "# Q37\n",
    "d = {\"a\": 5, \"b\": 9, \"c\": 3}\n",
    "max_key = max(d, key=d.get)\n",
    "print(max_key)"
   ]
  },
  {
   "cell_type": "code",
   "execution_count": 38,
   "metadata": {},
   "outputs": [
    {
     "name": "stdout",
     "output_type": "stream",
     "text": [
      "{'hello': 2, 'world': 1}\n"
     ]
    }
   ],
   "source": [
    "# Q38\n",
    "sentence = \"hello hello world\"\n",
    "words = sentence.split()\n",
    "freq = {word: words.count(word) for word in words}\n",
    "print(freq)"
   ]
  },
  {
   "cell_type": "code",
   "execution_count": 39,
   "metadata": {},
   "outputs": [
    {
     "name": "stdout",
     "output_type": "stream",
     "text": [
      "True\n"
     ]
    }
   ],
   "source": [
    "# Q39\n",
    "d = {\"a\": 1, \"b\": 2}\n",
    "print(\"a\" in d)"
   ]
  },
  {
   "cell_type": "code",
   "execution_count": 40,
   "metadata": {},
   "outputs": [
    {
     "name": "stdout",
     "output_type": "stream",
     "text": [
      "H*ll* W*rld\n"
     ]
    }
   ],
   "source": [
    "# Q40\n",
    "def replace_vowels(s):\n",
    "    return ''.join('*' if c.lower() in 'aeiou' else c for c in s)\n",
    "\n",
    "print(replace_vowels(\"Hello World\"))"
   ]
  },
  {
   "cell_type": "code",
   "execution_count": 52,
   "metadata": {},
   "outputs": [
    {
     "name": "stdout",
     "output_type": "stream",
     "text": [
      "This is a sample text file.\n",
      "It contains multiple lines of text.\n",
      "Some lines are short.\n",
      "Some lines are much longer than others, and they may exceed fifty characters in length.\n",
      "Python is great for file handling tasks!\n",
      "Let's test reading and writing files.\n"
     ]
    }
   ],
   "source": [
    "# Q41\n",
    "with open(\"sample.txt\", \"r\") as file:\n",
    "    print(file.read())"
   ]
  },
  {
   "cell_type": "code",
   "execution_count": 55,
   "metadata": {},
   "outputs": [
    {
     "name": "stdout",
     "output_type": "stream",
     "text": [
      "44\n"
     ]
    }
   ],
   "source": [
    "# Q42\n",
    "with open(\"sample.txt\", \"r\") as file:\n",
    "    words = file.read().split()\n",
    "    print(len(words))"
   ]
  },
  {
   "cell_type": "code",
   "execution_count": 56,
   "metadata": {},
   "outputs": [],
   "source": [
    "# Q43\n",
    "with open(\"sample.txt\", \"r\") as src, open(\"copy.txt\", \"w\") as dest:\n",
    "    dest.write(src.read())"
   ]
  },
  {
   "cell_type": "code",
   "execution_count": 57,
   "metadata": {},
   "outputs": [
    {
     "name": "stdout",
     "output_type": "stream",
     "text": [
      "Some lines are much longer than others, and they may exceed fifty characters in length.\n"
     ]
    }
   ],
   "source": [
    "# Q44\n",
    "with open(\"sample.txt\", \"r\") as file:\n",
    "    for line in file:\n",
    "        if len(line) > 50:\n",
    "            print(line.strip())"
   ]
  },
  {
   "cell_type": "code",
   "execution_count": 51,
   "metadata": {},
   "outputs": [],
   "source": [
    "# Q45\n",
    "lines = [\"Hello\", \"World\", \"Python\"]\n",
    "with open(\"output.txt\", \"w\") as file:\n",
    "    for line in lines:\n",
    "        file.write(line + \"\\n\")"
   ]
  },
  {
   "cell_type": "code",
   "execution_count": 49,
   "metadata": {},
   "outputs": [
    {
     "name": "stdout",
     "output_type": "stream",
     "text": [
      "Enter numerator: 15\n",
      "Enter denominator: 5\n",
      "3.0\n"
     ]
    }
   ],
   "source": [
    "# Q46\n",
    "try:\n",
    "    a = int(input(\"Enter numerator: \"))\n",
    "    b = int(input(\"Enter denominator: \"))\n",
    "    print(a / b)\n",
    "except ZeroDivisionError:\n",
    "    print(\"Cannot divide by zero!\")"
   ]
  },
  {
   "cell_type": "code",
   "execution_count": 48,
   "metadata": {},
   "outputs": [
    {
     "name": "stdout",
     "output_type": "stream",
     "text": [
      "Enter a number: 50\n"
     ]
    }
   ],
   "source": [
    "# Q47\n",
    "try:\n",
    "    num = int(input(\"Enter a number: \"))\n",
    "except ValueError:\n",
    "    print(\"Invalid input! Please enter a number.\")"
   ]
  },
  {
   "cell_type": "code",
   "execution_count": 47,
   "metadata": {},
   "outputs": [
    {
     "name": "stdout",
     "output_type": "stream",
     "text": [
      "File not found!\n"
     ]
    }
   ],
   "source": [
    "# Q48\n",
    "try:\n",
    "    with open(\"nonexistent.txt\", \"r\") as f:\n",
    "        print(f.read())\n",
    "except FileNotFoundError:\n",
    "    print(\"File not found!\")"
   ]
  },
  {
   "cell_type": "code",
   "execution_count": 46,
   "metadata": {},
   "outputs": [
    {
     "name": "stdout",
     "output_type": "stream",
     "text": [
      "Index out of range!\n"
     ]
    }
   ],
   "source": [
    "# Q49\n",
    "lst = [1, 2, 3]\n",
    "try:\n",
    "    print(lst[5])\n",
    "except IndexError:\n",
    "    print(\"Index out of range!\")"
   ]
  },
  {
   "cell_type": "code",
   "execution_count": 45,
   "metadata": {},
   "outputs": [
    {
     "name": "stdout",
     "output_type": "stream",
     "text": [
      "In try block\n",
      "Exception occurred\n",
      "Finally block executed\n"
     ]
    }
   ],
   "source": [
    "# Q50\n",
    "try:\n",
    "    print(\"In try block\")\n",
    "    1 / 0\n",
    "except ZeroDivisionError:\n",
    "    print(\"Exception occurred\")\n",
    "finally:\n",
    "    print(\"Finally block executed\")"
   ]
  }
 ],
 "metadata": {
  "kernelspec": {
   "display_name": "Python 3 (ipykernel)",
   "language": "python",
   "name": "python3"
  },
  "language_info": {
   "codemirror_mode": {
    "name": "ipython",
    "version": 3
   },
   "file_extension": ".py",
   "mimetype": "text/x-python",
   "name": "python",
   "nbconvert_exporter": "python",
   "pygments_lexer": "ipython3",
   "version": "3.11.5"
  }
 },
 "nbformat": 4,
 "nbformat_minor": 2
}
